{
 "cells": [
  {
   "cell_type": "markdown",
   "metadata": {},
   "source": [
    "# INaturalist component.\n",
    "\n",
    "- Should we be using iNaturalist to get the public more engaged? \n",
    "  + to few entries at current for use in identifying Burmese Python patterns.[82 total in FL]\n",
    "  + could be usable, though almost half the users are anonimous. [28 of the 55 totalusers have a name attached to account]\n",
    "- Which iNaturalist users are most active in sighting pythons? (edited) \n",
    "  + mostly nul on actual names. top3\n",
    "      - pythonbob\t   - noname give  : 12\n",
    "      - joemdo\t        - Joe MDO     : 6\n",
    "      - michiko         - Michiko     : 4\n",
    "- Which iNaturalist users are most active in identifying pythons? Hint: iNaturalist observations must be confirmed by other users... (edited) \n",
    "      - daniel_e    - Daniel Estabrooks :65\n",
    "      - tysmith\t    - no name given :42\n",
    "      - gibbous\t    - no name given :38     \n",
    "- Which iNaturalist users are most connected in the python-spotting community (i.e. who are the influencers)? (edited) \n",
    "      - gibbous\t   - no name give       \n",
    "      - dodomae98  - no name given\n",
    "      - pythonbob  - no name given\n",
    "- Are any wildlife officials also using iNaturalist? (Hint: yes)\n",
    "     - 3 peole. "
   ]
  },
  {
   "cell_type": "code",
   "execution_count": 13,
   "metadata": {},
   "outputs": [],
   "source": [
    "import re\n",
    "import networkx as nx\n",
    "import pandas as pd\n",
    "import networkx as nx\n",
    "import pandas as pd\n",
    "import numpy as np\n",
    "import requests \n",
    "from pandas.io.json import json_normalize\n",
    "from math import ceil\n",
    "import json\n",
    "# from json import json_normalize\n",
    "\n",
    "pd.set_option('display.max_columns', None)\n",
    "pd.set_option('display.max_rows', None)\n",
    "pd.set_option('display.max_colwidth', -1)"
   ]
  },
  {
   "cell_type": "code",
   "execution_count": 2,
   "metadata": {},
   "outputs": [],
   "source": [
    "def top5_dict(in_put, top = 5):\n",
    "    in_sort = sorted(in_put.items(), key=lambda kv: kv[1],reverse = True)\n",
    "    top_ones =[el for i,el in enumerate(in_sort) if i<top]\n",
    "    return top_ones"
   ]
  },
  {
   "cell_type": "code",
   "execution_count": 3,
   "metadata": {},
   "outputs": [
    {
     "data": {
      "text/plain": [
       "<Response [200]>"
      ]
     },
     "execution_count": 3,
     "metadata": {},
     "output_type": "execute_result"
    }
   ],
   "source": [
    "dataurl = \"https://api.inaturalist.org/v1/observations?verifiable=true&order_by=observations.id&order=desc&spam=false&place_id=21&taxon_id=238252&locale=en-US&per_page=100\"\n",
    "responce = requests.get(dataurl)\n",
    "responce"
   ]
  },
  {
   "cell_type": "code",
   "execution_count": 4,
   "metadata": {},
   "outputs": [],
   "source": [
    "data = responce.json()\n",
    "flatdata = json_normalize(data)\n",
    "# flatdata\n",
    "total=100\n",
    "per_page = flatdata['per_page']\n",
    "pages = ceil(total/ per_page)\n",
    "# pages\n",
    "page_data = []\n",
    "for page in range(1,pages+1):\n",
    "    responce = requests.get(dataurl + '&page='+ str(page))\n",
    "    result = json_normalize(responce.json()['results'])\n",
    "    page_data.append(pd.DataFrame(result))\n",
    "        \n",
    "df = pd.concat (page_data)\n",
    "identifications= df['identifications']\n",
    "# other fix to nest: cosider the use of postman to \n",
    "df.drop(columns= ['identifications','non_owner_ids'],inplace = True)\n",
    "col=[str(i).replace('.','_') for i in list(df.columns)]\n",
    "df.columns=col # replaces '.' with '_' to facilitate queries."
   ]
  },
  {
   "cell_type": "markdown",
   "metadata": {},
   "source": [
    "### Post Count\n",
    "- code bellow determines the username of the top 5 observation posters for burmese pythons in FL on INaturalist."
   ]
  },
  {
   "cell_type": "code",
   "execution_count": 10,
   "metadata": {
    "scrolled": true
   },
   "outputs": [
    {
     "data": {
      "text/plain": [
       "user_login_exact\n",
       "pythonbob              12\n",
       "joemdo                 6 \n",
       "atrox77                4 \n",
       "michiko                4 \n",
       "snakesareprettycool    3 \n",
       "Name: identifications_count, dtype: int64"
      ]
     },
     "execution_count": 10,
     "metadata": {},
     "output_type": "execute_result"
    }
   ],
   "source": [
    "df.groupby(['user_login_exact']).count().sort_values('annotations',ascending=False)['identifications_count'].head(5)"
   ]
  },
  {
   "cell_type": "markdown",
   "metadata": {},
   "source": [
    "##### The top 5 most identifications posted"
   ]
  },
  {
   "cell_type": "code",
   "execution_count": 9,
   "metadata": {
    "scrolled": true
   },
   "outputs": [
    {
     "data": {
      "text/html": [
       "<div>\n",
       "<style scoped>\n",
       "    .dataframe tbody tr th:only-of-type {\n",
       "        vertical-align: middle;\n",
       "    }\n",
       "\n",
       "    .dataframe tbody tr th {\n",
       "        vertical-align: top;\n",
       "    }\n",
       "\n",
       "    .dataframe thead th {\n",
       "        text-align: right;\n",
       "    }\n",
       "</style>\n",
       "<table border=\"1\" class=\"dataframe\">\n",
       "  <thead>\n",
       "    <tr style=\"text-align: right;\">\n",
       "      <th></th>\n",
       "      <th>post_ID</th>\n",
       "    </tr>\n",
       "    <tr>\n",
       "      <th>identifier_username</th>\n",
       "      <th></th>\n",
       "    </tr>\n",
       "  </thead>\n",
       "  <tbody>\n",
       "    <tr>\n",
       "      <th>daniel_e</th>\n",
       "      <td>65</td>\n",
       "    </tr>\n",
       "    <tr>\n",
       "      <th>tysmith</th>\n",
       "      <td>42</td>\n",
       "    </tr>\n",
       "    <tr>\n",
       "      <th>gibbous</th>\n",
       "      <td>38</td>\n",
       "    </tr>\n",
       "    <tr>\n",
       "      <th>bobbyfingers</th>\n",
       "      <td>32</td>\n",
       "    </tr>\n",
       "    <tr>\n",
       "      <th>dodomae98</th>\n",
       "      <td>29</td>\n",
       "    </tr>\n",
       "  </tbody>\n",
       "</table>\n",
       "</div>"
      ],
      "text/plain": [
       "                     post_ID\n",
       "identifier_username         \n",
       "daniel_e             65     \n",
       "tysmith              42     \n",
       "gibbous              38     \n",
       "bobbyfingers         32     \n",
       "dodomae98            29     "
      ]
     },
     "execution_count": 9,
     "metadata": {},
     "output_type": "execute_result"
    }
   ],
   "source": [
    "really = pd.DataFrame(relation, columns = ['post_ID','identifier_username'])\n",
    "really.groupby(['identifier_username']).count().sort_values('post_ID',ascending=False).head(5)"
   ]
  },
  {
   "cell_type": "markdown",
   "metadata": {},
   "source": [
    "### relationship. \n",
    "- code bellow grabs the identifications made by poeple for each entrie and calculates who is connected to the most people by the least number of steps. i other words who can be considered the most influential in the python comunity of INaturalist "
   ]
  },
  {
   "cell_type": "code",
   "execution_count": 5,
   "metadata": {},
   "outputs": [],
   "source": [
    "relation = []\n",
    "for i in range(82):\n",
    "    idet  = pd.DataFrame(identifications.values.flatten()[i])\n",
    "    for user in idet['user']:\n",
    "        rel = re.sub(\"', 'spam'.*\",'',str(user))\n",
    "        rel = re.sub(\".*'login': '\",'',rel)\n",
    "        relation.append([i,rel]) # cleaning data for use\n",
    "rel = []\n",
    "for i in range(82):\n",
    "    rel.append(relation[i])# = df['user.login_exact'].loc[i] # list of names by id they identified for\n",
    "jofson = pd.DataFrame(rel, columns = ['Name_x', 'Name_y'])"
   ]
  },
  {
   "cell_type": "code",
   "execution_count": 6,
   "metadata": {},
   "outputs": [
    {
     "data": {
      "text/plain": [
       "[('gibbous', 0.36170212765957444),\n",
       " ('dodomae98', 0.2553191489361702),\n",
       " ('lucareptile', 0.1276595744680851),\n",
       " (9, 0.1276595744680851),\n",
       " (13, 0.1276595744680851)]"
      ]
     },
     "execution_count": 6,
     "metadata": {},
     "output_type": "execute_result"
    }
   ],
   "source": [
    "G = nx.convert_matrix.from_pandas_edgelist(jofson, source = 'Name_x', target = 'Name_y')\n",
    "\n",
    "top5_dict( dict(nx.degree_centrality(G)))"
   ]
  },
  {
   "cell_type": "code",
   "execution_count": 7,
   "metadata": {},
   "outputs": [
    {
     "data": {
      "text/plain": [
       "[('gibbous', 0.48472995659963836),\n",
       " ('dodomae98', 0.383228512267044),\n",
       " (14, 0.21729486757533506),\n",
       " (13, 0.20095779569687705),\n",
       " (10, 0.20059193985240603)]"
      ]
     },
     "execution_count": 7,
     "metadata": {},
     "output_type": "execute_result"
    }
   ],
   "source": [
    "top5_dict(dict(nx.eigenvector_centrality_numpy(G)))"
   ]
  },
  {
   "cell_type": "code",
   "execution_count": 8,
   "metadata": {},
   "outputs": [
    {
     "data": {
      "text/plain": [
       "[('gibbous', 0.5595063336234998),\n",
       " ('dodomae98', 0.17609914155172438),\n",
       " (5, 0.12616661527392334),\n",
       " (4, 0.11366532774767954),\n",
       " (3, 0.10656496796949733)]"
      ]
     },
     "execution_count": 8,
     "metadata": {},
     "output_type": "execute_result"
    }
   ],
   "source": [
    "top5_dict(dict(nx.betweenness_centrality(G,weight = 'edge')))"
   ]
  }
 ],
 "metadata": {
  "kernelspec": {
   "display_name": "Python 3",
   "language": "python",
   "name": "python3"
  },
  "language_info": {
   "codemirror_mode": {
    "name": "ipython",
    "version": 3
   },
   "file_extension": ".py",
   "mimetype": "text/x-python",
   "name": "python",
   "nbconvert_exporter": "python",
   "pygments_lexer": "ipython3",
   "version": "3.7.1"
  }
 },
 "nbformat": 4,
 "nbformat_minor": 2
}
